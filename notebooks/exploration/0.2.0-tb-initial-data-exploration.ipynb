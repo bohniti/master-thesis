{
 "cells": [
  {
   "cell_type": "code",
   "execution_count": 1,
   "metadata": {},
   "outputs": [],
   "source": [
    "from src.visualization.visualize import show_imgs"
   ]
  },
  {
   "cell_type": "markdown",
   "metadata": {
    "pycharm": {
     "name": "#%% md\n"
    }
   },
   "source": [
    "# Exploratory"
   ]
  },
  {
   "cell_type": "code",
   "execution_count": null,
   "outputs": [
    {
     "name": "stdout",
     "output_type": "stream",
     "text": [
      "\n",
      "Read info from /Users/beantown/PycharmProjects/master-thesis/data/raw/info_file.csv ...\n",
      "\n",
      "Read info from /Users/beantown/PycharmProjects/master-thesis/data/raw/info_file.csv ...\n",
      "\n",
      "\u001B[1mDataset Overview\u001B[0m\n",
      "\n",
      "  nr_of_samples = 47\n",
      "  nr_of_labels = '0    47\\nName: labels, dtype: int64'\n",
      "  max_width = 11411\n",
      "  max_height = 8160\n",
      "  median_width = 6966.0\n",
      "  median_height = 3543.0\n",
      "  mean_width = 7269.297872340426\n",
      "  mean_height = 4262.404255319149\n",
      "\n",
      "\n",
      "\u001B[1mFile Info\u001B[0m\n",
      "\n",
      "|   Unnamed: 0 | names                                                    |   widths |   heights |   labels |\n",
      "|--------------|----------------------------------------------------------|----------|-----------|----------|\n",
      "|            0 | Constellation-Papyri-PB1-homer-1072205286_008            |    11411 |      3543 |        0 |\n",
      "|            1 | Bodleian-Library-MS-Gr-class-a-8-P_00019_verso           |     6922 |      3480 |        0 |\n",
      "|            2 | Bodleian-Library-MS-Gr-class-a-8-P_00002_section-2-recto |     7199 |      5309 |        0 |\n",
      "|            3 | Bodleian-Library-MS-Gr-class-a-8-P_00013_section-4-verso |     6944 |      5306 |        0 |\n",
      "|            4 | Bodleian-Library-MS-Gr-class-a-1-P-1-10_00009_frame-9    |     5344 |      3177 |        0 |\n"
     ]
    }
   ],
   "source": [
    "raw_data_path = '/Users/beantown/PycharmProjects/master-thesis/data/raw/'\n",
    "\n",
    "file_names = ['Bodleian-Library-MS-Gr-class-a-1-P-1-10_00001_frame-1',\n",
    "              'Bodleian-Library-MS-Gr-class-a-8-P_00001_section-1-recto']\n",
    "\n",
    "scale = 0.25\n",
    "\n",
    "\n",
    "\n",
    "show_imgs(raw_data_path=raw_data_path, all=False, n=5, rand=False, scaler=scale, print_info=True, print_overview=True)"
   ],
   "metadata": {
    "collapsed": false,
    "pycharm": {
     "name": "#%%\n",
     "is_executing": true
    }
   }
  }
 ],
 "metadata": {
  "kernelspec": {
   "display_name": "thesis-exploratory",
   "language": "python",
   "name": "thesis-exploratory"
  },
  "language_info": {
   "codemirror_mode": {
    "name": "ipython",
    "version": 3
   },
   "file_extension": ".py",
   "mimetype": "text/x-python",
   "name": "python",
   "nbconvert_exporter": "python",
   "pygments_lexer": "ipython3",
   "version": "3.8.5"
  }
 },
 "nbformat": 4,
 "nbformat_minor": 4
}