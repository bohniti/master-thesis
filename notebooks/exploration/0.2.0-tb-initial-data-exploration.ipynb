{
 "cells": [
  {
   "cell_type": "code",
   "execution_count": 11,
   "metadata": {},
   "outputs": [],
   "source": [
    "from src.visualization.visualize import show_images"
   ]
  },
  {
   "cell_type": "markdown",
   "metadata": {
    "pycharm": {
     "name": "#%% md\n"
    }
   },
   "source": [
    "# Exploratory"
   ]
  },
  {
   "cell_type": "code",
   "execution_count": 12,
   "outputs": [
    {
     "ename": "TypeError",
     "evalue": "show_images() got an unexpected keyword argument 'scaler'",
     "output_type": "error",
     "traceback": [
      "\u001B[0;31m---------------------------------------------------------------------------\u001B[0m",
      "\u001B[0;31mTypeError\u001B[0m                                 Traceback (most recent call last)",
      "\u001B[0;32m/var/folders/wj/vxbvyct136sdcvzl02f2nkph0000gn/T/ipykernel_5253/2418577587.py\u001B[0m in \u001B[0;36m<module>\u001B[0;34m\u001B[0m\n\u001B[1;32m      8\u001B[0m \u001B[0;34m\u001B[0m\u001B[0m\n\u001B[1;32m      9\u001B[0m \u001B[0;34m\u001B[0m\u001B[0m\n\u001B[0;32m---> 10\u001B[0;31m \u001B[0mshow_images\u001B[0m\u001B[0;34m(\u001B[0m\u001B[0mraw_data_path\u001B[0m\u001B[0;34m=\u001B[0m\u001B[0mraw_data_path\u001B[0m\u001B[0;34m,\u001B[0m \u001B[0mall\u001B[0m\u001B[0;34m=\u001B[0m\u001B[0;32mFalse\u001B[0m\u001B[0;34m,\u001B[0m \u001B[0mn\u001B[0m\u001B[0;34m=\u001B[0m\u001B[0;36m5\u001B[0m\u001B[0;34m,\u001B[0m \u001B[0mrand\u001B[0m\u001B[0;34m=\u001B[0m\u001B[0;32mFalse\u001B[0m\u001B[0;34m,\u001B[0m \u001B[0mscaler\u001B[0m\u001B[0;34m=\u001B[0m\u001B[0mscale\u001B[0m\u001B[0;34m,\u001B[0m \u001B[0mprint_info\u001B[0m\u001B[0;34m=\u001B[0m\u001B[0;32mTrue\u001B[0m\u001B[0;34m,\u001B[0m \u001B[0mprint_overview\u001B[0m\u001B[0;34m=\u001B[0m\u001B[0;32mTrue\u001B[0m\u001B[0;34m)\u001B[0m\u001B[0;34m\u001B[0m\u001B[0;34m\u001B[0m\u001B[0m\n\u001B[0m",
      "\u001B[0;31mTypeError\u001B[0m: show_images() got an unexpected keyword argument 'scaler'"
     ]
    }
   ],
   "source": [
    "raw_data_path = '/Users/beantown/PycharmProjects/master-thesis/data/raw/'\n",
    "\n",
    "file_names = ['Bodleian-Library-MS-Gr-class-a-1-P-1-10_00001_frame-1',\n",
    "              'Bodleian-Library-MS-Gr-class-a-8-P_00001_section-1-recto']\n",
    "\n",
    "scale = 0.25\n",
    "\n",
    "\n",
    "\n",
    "show_images(raw_data_path=raw_data_path, all=False, n=5, rand=False, scaler=scale, print_info=True, print_overview=True)"
   ],
   "metadata": {
    "collapsed": false,
    "pycharm": {
     "name": "#%%\n"
    }
   }
  },
  {
   "cell_type": "code",
   "execution_count": 12,
   "outputs": [],
   "source": [],
   "metadata": {
    "collapsed": false,
    "pycharm": {
     "name": "#%%\n"
    }
   }
  },
  {
   "cell_type": "code",
   "execution_count": null,
   "outputs": [],
   "source": [],
   "metadata": {
    "collapsed": false,
    "pycharm": {
     "name": "#%%\n"
    }
   }
  }
 ],
 "metadata": {
  "kernelspec": {
   "display_name": "thesis-exploratory",
   "language": "python",
   "name": "thesis-exploratory"
  },
  "language_info": {
   "codemirror_mode": {
    "name": "ipython",
    "version": 3
   },
   "file_extension": ".py",
   "mimetype": "text/x-python",
   "name": "python",
   "nbconvert_exporter": "python",
   "pygments_lexer": "ipython3",
   "version": "3.8.5"
  }
 },
 "nbformat": 4,
 "nbformat_minor": 4
}