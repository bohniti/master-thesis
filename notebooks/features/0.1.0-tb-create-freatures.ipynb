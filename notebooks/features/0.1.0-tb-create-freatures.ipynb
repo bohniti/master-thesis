{
 "cells": [
  {
   "cell_type": "code",
   "execution_count": null,
   "outputs": [],
   "source": [
    "import matplotlib.pyplot as plt\n",
    "from src.features.build_features import create_patches_from_imgs, retrieve_from_patches\n",
    "from src.visualization.visualize import show_images\n",
    "from src.data.io import get_images\n",
    "import cv2"
   ],
   "metadata": {
    "collapsed": false,
    "pycharm": {
     "name": "#%%\n",
     "is_executing": true
    }
   }
  },
  {
   "cell_type": "code",
   "execution_count": null,
   "outputs": [],
   "source": [
    "raw_data_path = '/Users/beantown/PycharmProjects/master-thesis/data/raw/'\n",
    "\n",
    "matplot = True\n",
    "\n",
    "scale = 0.25"
   ],
   "metadata": {
    "collapsed": false,
    "pycharm": {
     "name": "#%%\n",
     "is_executing": true
    }
   }
  },
  {
   "cell_type": "code",
   "execution_count": null,
   "outputs": [],
   "source": [
    "create_patches_from_imgs(input_path=raw_data_path,\n",
    "                         output_path='/Users/beantown/PycharmProjects/master-thesis/data/processed/',\n",
    "                         n=4,\n",
    "                         gradients=True)"
   ],
   "metadata": {
    "collapsed": false,
    "pycharm": {
     "name": "#%%\n",
     "is_executing": true
    }
   }
  },
  {
   "cell_type": "code",
   "execution_count": null,
   "outputs": [],
   "source": [
    "create_patches_from_imgs(input_path=raw_data_path,\n",
    "                         output_path='/Users/beantown/PycharmProjects/master-thesis/data/processed/',\n",
    "                         n=4,\n",
    "                         gradients=False)"
   ],
   "metadata": {
    "collapsed": false,
    "pycharm": {
     "name": "#%%\n",
     "is_executing": true
    }
   }
  },
  {
   "cell_type": "code",
   "execution_count": null,
   "outputs": [],
   "source": [
    "files = ['Bodleian-Library-MS-Gr-class-a-1-P-1-10_00001_frame-1_edges_x',\n",
    "         'Bodleian-Library-MS-Gr-class-a-1-P-1-10_00001_frame-1_edges_y']\n",
    "info = show_images(raw_data_path='/Users/beantown/PycharmProjects/master-thesis/data/processed/8_gradient_patches/',\n",
    "                   all=False,\n",
    "                   file_names=files,\n",
    "                   rand=False,\n",
    "                   scaler=scale,\n",
    "                   print_info=True,\n",
    "                   print_overview=False,\n",
    "                   matplot=matplot,\n",
    "                   label=1)"
   ],
   "metadata": {
    "collapsed": false,
    "pycharm": {
     "name": "#%%\n",
     "is_executing": true
    }
   }
  },
  {
   "cell_type": "code",
   "execution_count": null,
   "outputs": [],
   "source": [
    "files = ['Bodleian-Library-MS-Gr-class-a-1-P-1-10_00001_frame-1_edges_x',\n",
    "         'Bodleian-Library-MS-Gr-class-a-1-P-1-10_00001_frame-1_edges_y']\n",
    "gradient_images = get_images(raw_data_path='/Users/beantown/PycharmProjects/master-thesis/data/processed/8_gradient_patches/',\n",
    "                    file_names=files,\n",
    "                    rand=False,\n",
    "                    scaler=None,\n",
    "                    print_info=False,\n",
    "                    print_overview=False,\n",
    "                    label=1)"
   ],
   "metadata": {
    "collapsed": false,
    "pycharm": {
     "name": "#%%\n",
     "is_executing": true
    }
   }
  },
  {
   "cell_type": "code",
   "execution_count": null,
   "outputs": [],
   "source": [
    "print(len(gradient_images))"
   ],
   "metadata": {
    "collapsed": false,
    "pycharm": {
     "name": "#%%\n",
     "is_executing": true
    }
   }
  },
  {
   "cell_type": "code",
   "execution_count": null,
   "outputs": [],
   "source": [
    "files = ['Bodleian-Library-MS-Gr-class-a-1-P-1-10_00001_frame-1']\n",
    "patched_images = get_images(raw_data_path='/Users/beantown/PycharmProjects/master-thesis/data/processed/8_patches/',\n",
    "                            file_names=files,\n",
    "                            rand=False,\n",
    "                            scaler=None,\n",
    "                            print_info=False,\n",
    "                            print_overview=False,\n",
    "                            label=1)\n",
    "print(len(patched_images))"
   ],
   "metadata": {
    "collapsed": false,
    "pycharm": {
     "name": "#%%\n",
     "is_executing": true
    }
   }
  },
  {
   "cell_type": "code",
   "execution_count": null,
   "outputs": [],
   "source": [
    "test_img_vertical = patched_images - gradient_images[0]\n",
    "test_img_horizontal = patched_images - gradient_images[1]\n",
    "test_img = (patched_images - gradient_images[0]) - gradient_images[1]\n",
    "\n",
    "if matplot:\n",
    "    img = cv2.cvtColor(patched_images[0], cv2.COLOR_BGR2RGB)\n",
    "    test_img_vertical = cv2.cvtColor(test_img_vertical[0], cv2.COLOR_BGR2RGB)\n",
    "    test_img_horizontal = cv2.cvtColor(test_img_horizontal[0], cv2.COLOR_BGR2RGB)\n",
    "    test_img = cv2.cvtColor(test_img[0], cv2.COLOR_BGR2RGB)\n",
    "    plt.figure()\n",
    "    plt.title('Img original.')\n",
    "    plt.imshow(img)\n",
    "    plt.figure()\n",
    "    plt.title('Img without vertical edges.')\n",
    "    plt.imshow(test_img_vertical)\n",
    "    plt.show()\n",
    "    plt.figure()\n",
    "    plt.title('Img without horizontal edges.')\n",
    "    plt.imshow(test_img_horizontal)\n",
    "    plt.show()\n",
    "    plt.figure()\n",
    "    plt.title('Img without both edges.')\n",
    "    plt.imshow(test_img)\n",
    "    plt.show()\n",
    "else:\n",
    "    cv2.imshow('Original - patched', patched_images)\n",
    "    cv2.imshow('Img without vertical edges.', test_img_vertical[0])\n",
    "    cv2.imshow('Img without horizontal edges.', test_img_horizontal[0])\n",
    "    cv2.waitKey(0)\n",
    "    cv2.destroyAllWindows()\n"
   ],
   "metadata": {
    "collapsed": false,
    "pycharm": {
     "name": "#%%\n",
     "is_executing": true
    }
   }
  },
  {
   "cell_type": "code",
   "execution_count": null,
   "outputs": [],
   "source": [],
   "metadata": {
    "collapsed": false,
    "pycharm": {
     "name": "#%%\n",
     "is_executing": true
    }
   }
  },
  {
   "cell_type": "code",
   "execution_count": null,
   "outputs": [],
   "source": [],
   "metadata": {
    "collapsed": false,
    "pycharm": {
     "name": "#%%\n",
     "is_executing": true
    }
   }
  }
 ],
 "metadata": {
  "kernelspec": {
   "display_name": "Python 3 (ipykernel)",
   "language": "python",
   "name": "python3"
  },
  "language_info": {
   "codemirror_mode": {
    "name": "ipython",
    "version": 3
   },
   "file_extension": ".py",
   "mimetype": "text/x-python",
   "name": "python",
   "nbconvert_exporter": "python",
   "pygments_lexer": "ipython3",
   "version": "3.8.5"
  }
 },
 "nbformat": 4,
 "nbformat_minor": 4
}