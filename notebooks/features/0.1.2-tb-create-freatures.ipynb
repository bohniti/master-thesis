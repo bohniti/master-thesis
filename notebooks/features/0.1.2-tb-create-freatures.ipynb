{
 "cells": [
  {
   "cell_type": "code",
   "execution_count": 2,
   "metadata": {
    "collapsed": false,
    "jupyter": {
     "outputs_hidden": false
    },
    "pycharm": {
     "is_executing": true,
     "name": "#%%\n"
    }
   },
   "outputs": [],
   "source": [
    "import os\n",
    "import sys\n",
    "module_path = os.path.abspath(os.path.join('../../'))\n",
    "if module_path not in sys.path:\n",
    "    sys.path.append(module_path)\n",
    "\n",
    "import matplotlib.pyplot as plt\n",
    "from src.features.build_features import create_patches_from_imgs, retrieve_from_patches\n",
    "from src.visualization.visualize import show_images, show_image\n",
    "from src.data.io import get_images\n",
    "import cv2 as cv"
   ]
  },
  {
   "cell_type": "code",
   "execution_count": 3,
   "metadata": {
    "collapsed": false,
    "jupyter": {
     "outputs_hidden": false
    },
    "pycharm": {
     "is_executing": true,
     "name": "#%%\n"
    }
   },
   "outputs": [],
   "source": [
    "raw_data_path = '/Users/beantown/PycharmProjects/master-thesis/data/raw/michigan_data/data/'\n",
    "files = ['1203_C1_11R','1203_C1_11V', '1257_C2_7R','1257_C2_7V']\n",
    "matplot = True\n",
    "scale=0.25"
   ]
  },
  {
   "cell_type": "code",
   "execution_count": null,
   "metadata": {},
   "outputs": [],
   "source": [
    "show_images(raw_data_path=raw_data_path, file_names=files, rand=False, scaler=scale, print_info=True, print_overview=True)"
   ]
  },
  {
   "cell_type": "code",
   "execution_count": 4,
   "metadata": {
    "collapsed": false,
    "jupyter": {
     "outputs_hidden": false
    },
    "pycharm": {
     "is_executing": true,
     "name": "#%%\n"
    }
   },
   "outputs": [
    {
     "name": "stdout",
     "output_type": "stream",
     "text": [
      "Start collecting info from /Users/beantown/PycharmProjects/master-thesis/data/processed/michigan//16_patches/ ...\n",
      "Write info to info_file.csv\n",
      "Split 1203_C1_11R into 4.0 equally sized patches\n",
      "Saved all patches of 1203_C1_11R successfully.\n",
      "Start collecting info from /Users/beantown/PycharmProjects/master-thesis/data/processed/michigan//16_patches/ ...\n",
      "Write info to info_file.csv\n",
      "Start collecting info from /Users/beantown/PycharmProjects/master-thesis/data/processed/michigan//16_patches/ ...\n",
      "Write info to info_file.csv\n",
      "Split 1203_C1_11V into 4.0 equally sized patches\n",
      "Saved all patches of 1203_C1_11V successfully.\n",
      "Start collecting info from /Users/beantown/PycharmProjects/master-thesis/data/processed/michigan//16_patches/ ...\n",
      "Write info to info_file.csv\n",
      "Start collecting info from /Users/beantown/PycharmProjects/master-thesis/data/processed/michigan//16_patches/ ...\n",
      "Write info to info_file.csv\n",
      "Split 1257_C2_7R into 4.0 equally sized patches\n",
      "Saved all patches of 1257_C2_7R successfully.\n",
      "Start collecting info from /Users/beantown/PycharmProjects/master-thesis/data/processed/michigan//16_patches/ ...\n",
      "Write info to info_file.csv\n",
      "Start collecting info from /Users/beantown/PycharmProjects/master-thesis/data/processed/michigan//16_patches/ ...\n",
      "Write info to info_file.csv\n",
      "Split 1257_C2_7V into 4.0 equally sized patches\n",
      "Saved all patches of 1257_C2_7V successfully.\n",
      "Start collecting info from /Users/beantown/PycharmProjects/master-thesis/data/processed/michigan//16_patches/ ...\n",
      "Write info to info_file.csv\n",
      "Start collecting info from /Users/beantown/PycharmProjects/master-thesis/data/processed/michigan//16_patches/ ...\n",
      "Write info to info_file.csv\n"
     ]
    }
   ],
   "source": [
    "create_patches_from_imgs(input_path=raw_data_path,\n",
    "                         names=files,\n",
    "                         output_path='/Users/beantown/PycharmProjects/master-thesis/data/processed/michigan/',\n",
    "                         n=8,\n",
    "                         gradients=False)"
   ]
  },
  {
   "cell_type": "code",
   "execution_count": null,
   "metadata": {
    "collapsed": false,
    "jupyter": {
     "outputs_hidden": false
    },
    "pycharm": {
     "is_executing": true,
     "name": "#%%\n"
    }
   },
   "outputs": [],
   "source": [
    "files = ['1203_C1_11R_edges_x','1203_C1_11R_edges_y']\n",
    "\n",
    "info = show_images(raw_data_path='/Users/beantown/PycharmProjects/master-thesis/data/processed/michigan/16_gradient_patches/',\n",
    "                   all=False,\n",
    "                   file_names=files,\n",
    "                   rand=False,\n",
    "                   print_info=True,\n",
    "                   print_overview=False,\n",
    "                   matplot=matplot,\n",
    "                   label=4,\n",
    "                   hide_spines=True)\n",
    "\n",
    "patched_images = get_images(raw_data_path='/Users/beantown/PycharmProjects/master-thesis/data/processed/michigan/16_gradient_patches/',\n",
    "                            file_names=files,\n",
    "                            rand=False,\n",
    "                            print_info=False,\n",
    "                            print_overview=False,\n",
    "                            label=4)"
   ]
  },
  {
   "cell_type": "code",
   "execution_count": null,
   "metadata": {},
   "outputs": [],
   "source": []
  }
 ],
 "metadata": {
  "kernelspec": {
   "display_name": "Python 3 (ipykernel)",
   "language": "python",
   "name": "python3"
  },
  "language_info": {
   "codemirror_mode": {
    "name": "ipython",
    "version": 3
   },
   "file_extension": ".py",
   "mimetype": "text/x-python",
   "name": "python",
   "nbconvert_exporter": "python",
   "pygments_lexer": "ipython3",
   "version": "3.8.12"
  }
 },
 "nbformat": 4,
 "nbformat_minor": 4
}
