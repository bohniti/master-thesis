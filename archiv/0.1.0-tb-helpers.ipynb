{
 "cells": [
  {
   "cell_type": "markdown",
   "id": "5b06bb35-4457-461a-9bf6-2f06db26395c",
   "metadata": {},
   "source": [
    "# Helper Functions"
   ]
  },
  {
   "cell_type": "code",
   "execution_count": 1,
   "id": "2e34cf57-5803-4f6d-a90e-d3f016e83028",
   "metadata": {},
   "outputs": [],
   "source": [
    "from os import listdir\n",
    "from os.path import isfile, join\n",
    "import pandas as pd"
   ]
  },
  {
   "cell_type": "markdown",
   "id": "8d02b9de-d0f9-41f7-b8c5-3a4a039fa49b",
   "metadata": {},
   "source": [
    "## Create csv-files for PyTorch Dataclass"
   ]
  },
  {
   "cell_type": "code",
   "execution_count": 6,
   "id": "e47adbda-35dd-4eae-8aef-2093aeba50cc",
   "metadata": {},
   "outputs": [],
   "source": [
    "def create_info_csv(path, split=True):\n",
    "    fnames = [f for f in listdir(path) if isfile(join(path, f))]\n",
    "    fnames = [f.split('.',1)[0] for f in fnames]\n",
    "    fnames_frame = pd.DataFrame(fnames, columns=['fnames'])\n",
    "\n",
    "    if split:\n",
    "        new = fnames_frame['fnames'].str.split(\"_\", n = 2, expand = True)\n",
    "\n",
    "\n",
    "        # making separate first name column from new data frame\n",
    "        fnames_frame[\"wid\"]= new[0]\n",
    "\n",
    "        # making separate last name column from new data frame\n",
    "        fnames_frame[\"pid\"]= new[1]\n",
    "\n",
    "        # making separate last name column from new data frame\n",
    "        fnames_frame[\"fid\"]= new[2]\n",
    "\n",
    "        # Dropping old Name columns\n",
    "        fnames_frame.drop(columns =['fnames'], inplace = True)\n",
    "\n",
    "    # save as csf\n",
    "    info_path = join(path, 'info.csv')\n",
    "    fnames_frame.to_csv(info_path)"
   ]
  },
  {
   "cell_type": "code",
   "execution_count": 5,
   "id": "60d41d2f-a9e1-41ff-b991-8bccbc24e6a3",
   "metadata": {},
   "outputs": [],
   "source": [
    "create_info_csv('/Users/beantown/PycharmProjects/jigsaw-puzzle-solver/data/hisfrag20/raw/hisfrag20')\n",
    "create_info_csv('/Users/beantown/PycharmProjects/jigsaw-puzzle-solver/data/hisfrag20/raw/hisfrag20_test')"
   ]
  },
  {
   "cell_type": "code",
   "execution_count": null,
   "id": "eb1b9e65-fcd1-4ec3-a929-a2a51b779fd7",
   "metadata": {},
   "outputs": [],
   "source": []
  }
 ],
 "metadata": {
  "kernelspec": {
   "display_name": "thesis-exploratory",
   "language": "python",
   "name": "thesis-exploratory"
  },
  "language_info": {
   "codemirror_mode": {
    "name": "ipython",
    "version": 3
   },
   "file_extension": ".py",
   "mimetype": "text/x-python",
   "name": "python",
   "nbconvert_exporter": "python",
   "pygments_lexer": "ipython3",
   "version": "3.8.12"
  }
 },
 "nbformat": 4,
 "nbformat_minor": 5
}
